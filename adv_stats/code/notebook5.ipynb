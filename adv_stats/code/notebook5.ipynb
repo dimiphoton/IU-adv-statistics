{
 "cells": [
  {
   "cell_type": "code",
   "execution_count": null,
   "metadata": {},
   "outputs": [],
   "source": [
    "import numpy as np\n",
    "from sklearn.linear_model import Ridge\n",
    "from data.parameters import X_16"
   ]
  },
  {
   "cell_type": "code",
   "execution_count": null,
   "metadata": {},
   "outputs": [],
   "source": [
    "\n",
    "\n",
    "# Data\n",
    "data = X_16\n",
    "]\n",
    "\n",
    "# Prepare the data\n",
    "x = np.array([point[0] for point in data])\n",
    "y = np.array([point[1] for point in data])\n",
    "\n",
    "# Create the design matrix X\n",
    "degree = 10\n",
    "X = np.vander(x, N=degree + 1, increasing=True)\n",
    "\n",
    "# OLS estimate\n",
    "ols_beta = np.linalg.inv(X.T @ X) @ X.T @ y\n",
    "print(\"OLS Coefficients:\")\n",
    "print(ols_beta)\n",
    "\n",
    "# Ridge-regularized OLS\n",
    "lambda_ = 1.0  # Regularization weight\n",
    "ridge = Ridge(alpha=lambda_, fit_intercept=False)  # fit_intercept=False as X already includes intercept\n",
    "ridge.fit(X, y)\n",
    "ridge_beta = ridge.coef_\n",
    "print(\"\\nRidge Coefficients (lambda=1.0):\")\n",
    "print(ridge_beta)\n"
   ]
  }
 ],
 "metadata": {
  "kernelspec": {
   "display_name": "IUdataenv",
   "language": "python",
   "name": "python3"
  },
  "language_info": {
   "name": "python",
   "version": "3.9.20"
  }
 },
 "nbformat": 4,
 "nbformat_minor": 2
}

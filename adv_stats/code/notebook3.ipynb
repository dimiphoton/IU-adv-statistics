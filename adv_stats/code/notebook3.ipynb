{
 "cells": [
  {
   "cell_type": "code",
   "execution_count": 1,
   "metadata": {},
   "outputs": [
    {
     "name": "stdout",
     "output_type": "stream",
     "text": [
      "Maximum Likelihood Estimate of θ: 5.00 terabytes\n",
      "Expectation of Bandwidth Total to Failure T: 10.00 terabytes\n"
     ]
    }
   ],
   "source": [
    "import numpy as np\n",
    "\n",
    "# Given sample data\n",
    "data = np.array([8, 7, 6, 17, 12])\n",
    "n = len(data)\n",
    "\n",
    "# Step 1: Compute the MLE of theta\n",
    "theta_hat = np.sum(data) / (2 * n)\n",
    "\n",
    "# Step 2: Compute the expectation of T\n",
    "E_T = 2 * theta_hat\n",
    "\n",
    "# Print results\n",
    "print(f\"Maximum Likelihood Estimate of θ: {theta_hat:.2f} terabytes\")\n",
    "print(f\"Expectation of Bandwidth Total to Failure T: {E_T:.2f} terabytes\")"
   ]
  },
  {
   "cell_type": "code",
   "execution_count": null,
   "metadata": {},
   "outputs": [],
   "source": []
  }
 ],
 "metadata": {
  "kernelspec": {
   "display_name": "IUdataenv",
   "language": "python",
   "name": "python3"
  },
  "language_info": {
   "codemirror_mode": {
    "name": "ipython",
    "version": 3
   },
   "file_extension": ".py",
   "mimetype": "text/x-python",
   "name": "python",
   "nbconvert_exporter": "python",
   "pygments_lexer": "ipython3",
   "version": "3.9.20"
  }
 },
 "nbformat": 4,
 "nbformat_minor": 2
}
